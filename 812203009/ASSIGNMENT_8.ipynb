{
  "cells": [
    {
      "cell_type": "code",
      "execution_count": null,
      "metadata": {
        "id": "PKJWGI_UapWz"
      },
      "outputs": [],
      "source": [
        "import torch, torchvision\n",
        "from torch import nn\n",
        "from torch import optim\n",
        "from torchvision.transforms import ToTensor\n",
        "import torch.nn.functional as F\n",
        "import matplotlib.pyplot as plt\n",
        "import requests\n",
        "import copy\n",
        "from sklearn.metrics import confusion_matrix\n",
        "import pandas as pd\n",
        "import numpy as np"
      ]
    },
    {
      "cell_type": "code",
      "execution_count": null,
      "metadata": {
        "id": "Q3vsUl7sapW5"
      },
      "outputs": [],
      "source": [
        "numb_batch = 64"
      ]
    },
    {
      "cell_type": "code",
      "execution_count": null,
      "metadata": {
        "id": "YYAYu0ojapW6",
        "outputId": "0918acbd-2e43-4579-9fb6-3a826f29a1d3",
        "colab": {
          "referenced_widgets": [
            "9259007f96e04c75a77351cf90aa43c3",
            "84fa39a6133f4fa5a5828b1c070b3cc8",
            "26b8424c777047929d2fcbc42e25ed98",
            "6ff8642454904623875a2fc12fe8aab7"
          ]
        }
      },
      "outputs": [
        {
          "name": "stdout",
          "output_type": "stream",
          "text": [
            "Downloading http://yann.lecun.com/exdb/mnist/train-images-idx3-ubyte.gz\n",
            "Downloading http://yann.lecun.com/exdb/mnist/train-images-idx3-ubyte.gz to mnist_data\\MNIST\\raw\\train-images-idx3-ubyte.gz\n"
          ]
        },
        {
          "data": {
            "application/vnd.jupyter.widget-view+json": {
              "model_id": "9259007f96e04c75a77351cf90aa43c3",
              "version_major": 2,
              "version_minor": 0
            },
            "text/plain": [
              "HBox(children=(HTML(value=''), FloatProgress(value=0.0, max=9912422.0), HTML(value='')))"
            ]
          },
          "metadata": {},
          "output_type": "display_data"
        },
        {
          "name": "stdout",
          "output_type": "stream",
          "text": [
            "\n",
            "Extracting mnist_data\\MNIST\\raw\\train-images-idx3-ubyte.gz to mnist_data\\MNIST\\raw\n",
            "\n",
            "Downloading http://yann.lecun.com/exdb/mnist/train-labels-idx1-ubyte.gz\n",
            "Downloading http://yann.lecun.com/exdb/mnist/train-labels-idx1-ubyte.gz to mnist_data\\MNIST\\raw\\train-labels-idx1-ubyte.gz\n"
          ]
        },
        {
          "data": {
            "application/vnd.jupyter.widget-view+json": {
              "model_id": "84fa39a6133f4fa5a5828b1c070b3cc8",
              "version_major": 2,
              "version_minor": 0
            },
            "text/plain": [
              "HBox(children=(HTML(value=''), FloatProgress(value=0.0, max=28881.0), HTML(value='')))"
            ]
          },
          "metadata": {},
          "output_type": "display_data"
        },
        {
          "name": "stdout",
          "output_type": "stream",
          "text": [
            "\n",
            "Extracting mnist_data\\MNIST\\raw\\train-labels-idx1-ubyte.gz to mnist_data\\MNIST\\raw\n",
            "\n",
            "Downloading http://yann.lecun.com/exdb/mnist/t10k-images-idx3-ubyte.gz\n",
            "Downloading http://yann.lecun.com/exdb/mnist/t10k-images-idx3-ubyte.gz to mnist_data\\MNIST\\raw\\t10k-images-idx3-ubyte.gz\n"
          ]
        },
        {
          "data": {
            "application/vnd.jupyter.widget-view+json": {
              "model_id": "26b8424c777047929d2fcbc42e25ed98",
              "version_major": 2,
              "version_minor": 0
            },
            "text/plain": [
              "HBox(children=(HTML(value=''), FloatProgress(value=0.0, max=1648877.0), HTML(value='')))"
            ]
          },
          "metadata": {},
          "output_type": "display_data"
        },
        {
          "name": "stdout",
          "output_type": "stream",
          "text": [
            "\n",
            "Extracting mnist_data\\MNIST\\raw\\t10k-images-idx3-ubyte.gz to mnist_data\\MNIST\\raw\n",
            "\n",
            "Downloading http://yann.lecun.com/exdb/mnist/t10k-labels-idx1-ubyte.gz\n",
            "Downloading http://yann.lecun.com/exdb/mnist/t10k-labels-idx1-ubyte.gz to mnist_data\\MNIST\\raw\\t10k-labels-idx1-ubyte.gz\n"
          ]
        },
        {
          "data": {
            "application/vnd.jupyter.widget-view+json": {
              "model_id": "6ff8642454904623875a2fc12fe8aab7",
              "version_major": 2,
              "version_minor": 0
            },
            "text/plain": [
              "HBox(children=(HTML(value=''), FloatProgress(value=0.0, max=4542.0), HTML(value='')))"
            ]
          },
          "metadata": {},
          "output_type": "display_data"
        },
        {
          "name": "stdout",
          "output_type": "stream",
          "text": [
            "\n",
            "Extracting mnist_data\\MNIST\\raw\\t10k-labels-idx1-ubyte.gz to mnist_data\\MNIST\\raw\n",
            "\n",
            "Processing...\n"
          ]
        },
        {
          "name": "stderr",
          "output_type": "stream",
          "text": [
            "C:\\Users\\apoor\\anaconda3\\lib\\site-packages\\torchvision\\datasets\\mnist.py:502: UserWarning: The given NumPy array is not writeable, and PyTorch does not support non-writeable tensors. This means you can write to the underlying (supposedly non-writeable) NumPy array using the tensor. You may want to copy the array to protect its data or make it writeable before converting it to a tensor. This type of warning will be suppressed for the rest of this program. (Triggered internally at  ..\\torch\\csrc\\utils\\tensor_numpy.cpp:143.)\n",
            "  return torch.from_numpy(parsed.astype(m[2], copy=False)).view(*s)\n"
          ]
        },
        {
          "name": "stdout",
          "output_type": "stream",
          "text": [
            "Done!\n"
          ]
        }
      ],
      "source": [
        "T = torchvision.transforms.Compose([\n",
        "    torchvision.transforms.ToTensor()\n",
        "])\n",
        "train_data = torchvision.datasets.MNIST('mnist_data', train=True, download=True, transform=T)\n",
        "val_data = torchvision.datasets.MNIST('mnist_data', train=False, download=True, transform=T)\n",
        "\n",
        "train_dl = torch.utils.data.DataLoader(train_data, batch_size = numb_batch)\n",
        "val_dl = torch.utils.data.DataLoader(val_data, batch_size = numb_batch)"
      ]
    },
    {
      "cell_type": "code",
      "execution_count": null,
      "metadata": {
        "id": "boAFjBbBapW-"
      },
      "outputs": [],
      "source": [
        "def create_lenet():\n",
        "    model = nn.Sequential(\n",
        "        nn.Conv2d(1, 6, 5, padding=2),\n",
        "        nn.ReLU(),\n",
        "        nn.AvgPool2d(2, stride=2),\n",
        "        nn.Conv2d(6, 16, 5, padding=0),\n",
        "        nn.ReLU(),\n",
        "        nn.AvgPool2d(2, stride=2),\n",
        "        nn.Flatten(),\n",
        "        nn.Linear(400, 120),\n",
        "        nn.ReLU(),\n",
        "        nn.Linear(120, 84),\n",
        "        nn.ReLU(),\n",
        "        nn.Linear(84, 10)\n",
        "    )\n",
        "    return model"
      ]
    },
    {
      "cell_type": "code",
      "execution_count": null,
      "metadata": {
        "id": "wfbZ0VasapW_"
      },
      "outputs": [],
      "source": [
        "def validate(model, data):\n",
        "    total = 0\n",
        "    correct = 0\n",
        "    for i, (images, labels) in enumerate(data):\n",
        "        images = images.cpu()\n",
        "        x = model(images)\n",
        "        value, pred = torch.max(x,1)\n",
        "        pred = pred.data.cpu()\n",
        "        total += x.size(0)\n",
        "        correct += torch.sum(pred == labels)\n",
        "\n",
        "    return correct*100./total"
      ]
    },
    {
      "cell_type": "code",
      "execution_count": null,
      "metadata": {
        "id": "ukz7D45qapXB"
      },
      "outputs": [],
      "source": [
        "def train(numb_epoch=3, lr=1e-3, device=\"cpu\"):\n",
        "    accuracies = []\n",
        "    cnn = create_lenet().to(device)\n",
        "    cec = nn.CrossEntropyLoss()\n",
        "    optimizer = optim.Adam(cnn.parameters(), lr=lr)\n",
        "    max_accuracy = 0\n",
        "    for epoch in range(numb_epoch):\n",
        "        for i, (images, labels) in enumerate(train_dl):\n",
        "            images = images.to(device)\n",
        "            labels = labels.to(device)\n",
        "            optimizer.zero_grad()\n",
        "            pred = cnn(images)\n",
        "            loss = cec(pred, labels)\n",
        "            loss.backward()\n",
        "            optimizer.step()\n",
        "        accuracy = float(validate(cnn, val_dl))\n",
        "        accuracies.append(accuracy)\n",
        "        if accuracy > max_accuracy:\n",
        "            best_model = copy.deepcopy(cnn)\n",
        "            max_accuracy = accuracy\n",
        "            print(\"Saving Best Model with Accuracy: \", accuracy)\n",
        "        print('Epoch:', epoch+1, \"Accuracy :\", accuracy, '%')\n",
        "    plt.plot(accuracies)\n",
        "    return best_model"
      ]
    },
    {
      "cell_type": "code",
      "execution_count": null,
      "metadata": {
        "id": "xbWZLEwZapXE",
        "outputId": "4562ca5f-a24f-4e20-ccd7-b08d86a56f43"
      },
      "outputs": [
        {
          "name": "stdout",
          "output_type": "stream",
          "text": [
            "No Cuda Available\n"
          ]
        },
        {
          "data": {
            "text/plain": [
              "device(type='cpu')"
            ]
          },
          "execution_count": 8,
          "metadata": {},
          "output_type": "execute_result"
        }
      ],
      "source": [
        "if torch.cuda.is_available():\n",
        "    device = torch.device(\"cuda:0\")\n",
        "else:\n",
        "    device = torch.device(\"cpu\")\n",
        "    print(\"No Cuda Available\")\n",
        "device"
      ]
    },
    {
      "cell_type": "code",
      "execution_count": null,
      "metadata": {
        "id": "zvIk7yAlapXG",
        "outputId": "bf2076db-1434-4ed5-b829-d9d00e038893"
      },
      "outputs": [
        {
          "name": "stdout",
          "output_type": "stream",
          "text": [
            "Saving Best Model with Accuracy:  95.02999877929688\n",
            "Epoch: 1 Accuracy : 95.02999877929688 %\n",
            "Saving Best Model with Accuracy:  97.05000305175781\n",
            "Epoch: 2 Accuracy : 97.05000305175781 %\n",
            "Saving Best Model with Accuracy:  97.72000122070312\n",
            "Epoch: 3 Accuracy : 97.72000122070312 %\n",
            "Saving Best Model with Accuracy:  98.43000030517578\n",
            "Epoch: 4 Accuracy : 98.43000030517578 %\n",
            "Saving Best Model with Accuracy:  98.5999984741211\n",
            "Epoch: 5 Accuracy : 98.5999984741211 %\n"
          ]
        },
        {
          "data": {
            "image/png": "[encoded data removed]",
            "text/plain": [
              "<Figure size 432x288 with 1 Axes>"
            ]
          },
          "metadata": {
            "needs_background": "light"
          },
          "output_type": "display_data"
        }
      ],
      "source": [
        "lenet = train(5, device=device)"
      ]
    },
    {
      "cell_type": "code",
      "execution_count": null,
      "metadata": {
        "id": "l3ifCXbgapXH"
      },
      "outputs": [],
      "source": []
    },
    {
      "cell_type": "code",
      "execution_count": null,
      "metadata": {
        "id": "wuCwM0B2apXI"
      },
      "outputs": [],
      "source": []
    }
  ],
  "metadata": {
    "kernelspec": {
      "display_name": "Python 3",
      "language": "python",
      "name": "python3"
    },
    "language_info": {
      "codemirror_mode": {
        "name": "ipython",
        "version": 3
      },
      "file_extension": ".py",
      "mimetype": "text/x-python",
      "name": "python",
      "nbconvert_exporter": "python",
      "pygments_lexer": "ipython3",
      "version": "3.8.5"
    },
    "colab": {
      "provenance": []
    }
  },
  "nbformat": 4,
  "nbformat_minor": 0
}