{
  "cells": [
    {
      "cell_type": "markdown",
      "id": "9f01ac77",
      "metadata": {
        "id": "9f01ac77"
      },
      "source": [
        "Deep Learning Assignment 1\n",
        "MIS No.: 122122014\n",
        "Name : Madhura Sawarkar\n"
      ]
    },
    {
      "cell_type": "code",
      "execution_count": null,
      "id": "78f3f5f1",
      "metadata": {
        "id": "78f3f5f1"
      },
      "outputs": [],
      "source": [
        "# Import Libraries\n",
        "import pandas as pd\n",
        "import numpy as np\n",
        "import matplotlib.pyplot as plt\n",
        "import sklearn\n",
        "from sklearn.metrics import accuracy_score\n",
        "from imblearn.over_sampling import SMOTE"
      ]
    },
    {
      "cell_type": "code",
      "execution_count": null,
      "id": "b4892bc8",
      "metadata": {
        "id": "b4892bc8"
      },
      "outputs": [],
      "source": [
        "#import dataset\n",
        "df = pd.read_csv(\"/home/mad/Downloads/titanic.csv\")"
      ]
    },
    {
      "cell_type": "code",
      "execution_count": null,
      "id": "6d5f8339",
      "metadata": {
        "id": "6d5f8339",
        "outputId": "6aede08e-458d-4fbb-9e76-37bc2ab87883"
      },
      "outputs": [
        {
          "data": {
            "text/html": [
              "<div>\n",
              "<style scoped>\n",
              "    .dataframe tbody tr th:only-of-type {\n",
              "        vertical-align: middle;\n",
              "    }\n",
              "\n",
              "    .dataframe tbody tr th {\n",
              "        vertical-align: top;\n",
              "    }\n",
              "\n",
              "    .dataframe thead th {\n",
              "        text-align: right;\n",
              "    }\n",
              "</style>\n",
              "<table border=\"1\" class=\"dataframe\">\n",
              "  <thead>\n",
              "    <tr style=\"text-align: right;\">\n",
              "      <th></th>\n",
              "      <th>PassengerId</th>\n",
              "      <th>Survived</th>\n",
              "      <th>Pclass</th>\n",
              "      <th>Name</th>\n",
              "      <th>Sex</th>\n",
              "      <th>Age</th>\n",
              "      <th>SibSp</th>\n",
              "      <th>Parch</th>\n",
              "      <th>Ticket</th>\n",
              "      <th>Fare</th>\n",
              "      <th>Cabin</th>\n",
              "      <th>Embarked</th>\n",
              "    </tr>\n",
              "  </thead>\n",
              "  <tbody>\n",
              "    <tr>\n",
              "      <th>0</th>\n",
              "      <td>1</td>\n",
              "      <td>0</td>\n",
              "      <td>3</td>\n",
              "      <td>Braund, Mr. Owen Harris</td>\n",
              "      <td>male</td>\n",
              "      <td>22.0</td>\n",
              "      <td>1</td>\n",
              "      <td>0</td>\n",
              "      <td>A/5 21171</td>\n",
              "      <td>7.2500</td>\n",
              "      <td>NaN</td>\n",
              "      <td>S</td>\n",
              "    </tr>\n",
              "    <tr>\n",
              "      <th>1</th>\n",
              "      <td>2</td>\n",
              "      <td>1</td>\n",
              "      <td>1</td>\n",
              "      <td>Cumings, Mrs. John Bradley (Florence Briggs Th...</td>\n",
              "      <td>female</td>\n",
              "      <td>38.0</td>\n",
              "      <td>1</td>\n",
              "      <td>0</td>\n",
              "      <td>PC 17599</td>\n",
              "      <td>71.2833</td>\n",
              "      <td>C85</td>\n",
              "      <td>C</td>\n",
              "    </tr>\n",
              "    <tr>\n",
              "      <th>2</th>\n",
              "      <td>3</td>\n",
              "      <td>1</td>\n",
              "      <td>3</td>\n",
              "      <td>Heikkinen, Miss. Laina</td>\n",
              "      <td>female</td>\n",
              "      <td>26.0</td>\n",
              "      <td>0</td>\n",
              "      <td>0</td>\n",
              "      <td>STON/O2. 3101282</td>\n",
              "      <td>7.9250</td>\n",
              "      <td>NaN</td>\n",
              "      <td>S</td>\n",
              "    </tr>\n",
              "    <tr>\n",
              "      <th>3</th>\n",
              "      <td>4</td>\n",
              "      <td>1</td>\n",
              "      <td>1</td>\n",
              "      <td>Futrelle, Mrs. Jacques Heath (Lily May Peel)</td>\n",
              "      <td>female</td>\n",
              "      <td>35.0</td>\n",
              "      <td>1</td>\n",
              "      <td>0</td>\n",
              "      <td>113803</td>\n",
              "      <td>53.1000</td>\n",
              "      <td>C123</td>\n",
              "      <td>S</td>\n",
              "    </tr>\n",
              "    <tr>\n",
              "      <th>4</th>\n",
              "      <td>5</td>\n",
              "      <td>0</td>\n",
              "      <td>3</td>\n",
              "      <td>Allen, Mr. William Henry</td>\n",
              "      <td>male</td>\n",
              "      <td>35.0</td>\n",
              "      <td>0</td>\n",
              "      <td>0</td>\n",
              "      <td>373450</td>\n",
              "      <td>8.0500</td>\n",
              "      <td>NaN</td>\n",
              "      <td>S</td>\n",
              "    </tr>\n",
              "    <tr>\n",
              "      <th>...</th>\n",
              "      <td>...</td>\n",
              "      <td>...</td>\n",
              "      <td>...</td>\n",
              "      <td>...</td>\n",
              "      <td>...</td>\n",
              "      <td>...</td>\n",
              "      <td>...</td>\n",
              "      <td>...</td>\n",
              "      <td>...</td>\n",
              "      <td>...</td>\n",
              "      <td>...</td>\n",
              "      <td>...</td>\n",
              "    </tr>\n",
              "    <tr>\n",
              "      <th>886</th>\n",
              "      <td>887</td>\n",
              "      <td>0</td>\n",
              "      <td>2</td>\n",
              "      <td>Montvila, Rev. Juozas</td>\n",
              "      <td>male</td>\n",
              "      <td>27.0</td>\n",
              "      <td>0</td>\n",
              "      <td>0</td>\n",
              "      <td>211536</td>\n",
              "      <td>13.0000</td>\n",
              "      <td>NaN</td>\n",
              "      <td>S</td>\n",
              "    </tr>\n",
              "    <tr>\n",
              "      <th>887</th>\n",
              "      <td>888</td>\n",
              "      <td>1</td>\n",
              "      <td>1</td>\n",
              "      <td>Graham, Miss. Margaret Edith</td>\n",
              "      <td>female</td>\n",
              "      <td>19.0</td>\n",
              "      <td>0</td>\n",
              "      <td>0</td>\n",
              "      <td>112053</td>\n",
              "      <td>30.0000</td>\n",
              "      <td>B42</td>\n",
              "      <td>S</td>\n",
              "    </tr>\n",
              "    <tr>\n",
              "      <th>888</th>\n",
              "      <td>889</td>\n",
              "      <td>0</td>\n",
              "      <td>3</td>\n",
              "      <td>Johnston, Miss. Catherine Helen \"Carrie\"</td>\n",
              "      <td>female</td>\n",
              "      <td>NaN</td>\n",
              "      <td>1</td>\n",
              "      <td>2</td>\n",
              "      <td>W./C. 6607</td>\n",
              "      <td>23.4500</td>\n",
              "      <td>NaN</td>\n",
              "      <td>S</td>\n",
              "    </tr>\n",
              "    <tr>\n",
              "      <th>889</th>\n",
              "      <td>890</td>\n",
              "      <td>1</td>\n",
              "      <td>1</td>\n",
              "      <td>Behr, Mr. Karl Howell</td>\n",
              "      <td>male</td>\n",
              "      <td>26.0</td>\n",
              "      <td>0</td>\n",
              "      <td>0</td>\n",
              "      <td>111369</td>\n",
              "      <td>30.0000</td>\n",
              "      <td>C148</td>\n",
              "      <td>C</td>\n",
              "    </tr>\n",
              "    <tr>\n",
              "      <th>890</th>\n",
              "      <td>891</td>\n",
              "      <td>0</td>\n",
              "      <td>3</td>\n",
              "      <td>Dooley, Mr. Patrick</td>\n",
              "      <td>male</td>\n",
              "      <td>32.0</td>\n",
              "      <td>0</td>\n",
              "      <td>0</td>\n",
              "      <td>370376</td>\n",
              "      <td>7.7500</td>\n",
              "      <td>NaN</td>\n",
              "      <td>Q</td>\n",
              "    </tr>\n",
              "  </tbody>\n",
              "</table>\n",
              "<p>891 rows × 12 columns</p>\n",
              "</div>"
            ],
            "text/plain": [
              "     PassengerId  Survived  Pclass  \\\n",
              "0              1         0       3   \n",
              "1              2         1       1   \n",
              "2              3         1       3   \n",
              "3              4         1       1   \n",
              "4              5         0       3   \n",
              "..           ...       ...     ...   \n",
              "886          887         0       2   \n",
              "887          888         1       1   \n",
              "888          889         0       3   \n",
              "889          890         1       1   \n",
              "890          891         0       3   \n",
              "\n",
              "                                                  Name     Sex   Age  SibSp  \\\n",
              "0                              Braund, Mr. Owen Harris    male  22.0      1   \n",
              "1    Cumings, Mrs. John Bradley (Florence Briggs Th...  female  38.0      1   \n",
              "2                               Heikkinen, Miss. Laina  female  26.0      0   \n",
              "3         Futrelle, Mrs. Jacques Heath (Lily May Peel)  female  35.0      1   \n",
              "4                             Allen, Mr. William Henry    male  35.0      0   \n",
              "..                                                 ...     ...   ...    ...   \n",
              "886                              Montvila, Rev. Juozas    male  27.0      0   \n",
              "887                       Graham, Miss. Margaret Edith  female  19.0      0   \n",
              "888           Johnston, Miss. Catherine Helen \"Carrie\"  female   NaN      1   \n",
              "889                              Behr, Mr. Karl Howell    male  26.0      0   \n",
              "890                                Dooley, Mr. Patrick    male  32.0      0   \n",
              "\n",
              "     Parch            Ticket     Fare Cabin Embarked  \n",
              "0        0         A/5 21171   7.2500   NaN        S  \n",
              "1        0          PC 17599  71.2833   C85        C  \n",
              "2        0  STON/O2. 3101282   7.9250   NaN        S  \n",
              "3        0            113803  53.1000  C123        S  \n",
              "4        0            373450   8.0500   NaN        S  \n",
              "..     ...               ...      ...   ...      ...  \n",
              "886      0            211536  13.0000   NaN        S  \n",
              "887      0            112053  30.0000   B42        S  \n",
              "888      2        W./C. 6607  23.4500   NaN        S  \n",
              "889      0            111369  30.0000  C148        C  \n",
              "890      0            370376   7.7500   NaN        Q  \n",
              "\n",
              "[891 rows x 12 columns]"
            ]
          },
          "execution_count": 3,
          "metadata": {},
          "output_type": "execute_result"
        }
      ],
      "source": [
        "df"
      ]
    },
    {
      "cell_type": "code",
      "execution_count": null,
      "id": "d825478f",
      "metadata": {
        "id": "d825478f",
        "outputId": "ef6cc71c-9958-4c92-ab8e-6b3e367a578d"
      },
      "outputs": [
        {
          "data": {
            "text/plain": [
              "PassengerId      0\n",
              "Survived         0\n",
              "Pclass           0\n",
              "Name             0\n",
              "Sex              0\n",
              "Age            177\n",
              "SibSp            0\n",
              "Parch            0\n",
              "Ticket           0\n",
              "Fare             0\n",
              "Cabin          687\n",
              "Embarked         2\n",
              "dtype: int64"
            ]
          },
          "execution_count": 4,
          "metadata": {},
          "output_type": "execute_result"
        }
      ],
      "source": [
        "df.isnull().sum()"
      ]
    },
    {
      "cell_type": "code",
      "execution_count": null,
      "id": "27030dfa",
      "metadata": {
        "id": "27030dfa"
      },
      "outputs": [],
      "source": [
        "df_sex = pd.get_dummies(df.Sex)"
      ]
    },
    {
      "cell_type": "code",
      "execution_count": null,
      "id": "f7632b7f",
      "metadata": {
        "id": "f7632b7f"
      },
      "outputs": [],
      "source": [
        "#Dropping non-numeric Columns\n",
        "df = df.drop(columns=[\"Name\",\"Ticket\",\"Cabin\",\"Embarked\",\"Sex\"])"
      ]
    },
    {
      "cell_type": "code",
      "execution_count": null,
      "id": "194203fb",
      "metadata": {
        "id": "194203fb"
      },
      "outputs": [],
      "source": [
        "df = pd.concat([df_sex,df],axis=1)"
      ]
    },
    {
      "cell_type": "code",
      "execution_count": null,
      "id": "a54c22fd",
      "metadata": {
        "id": "a54c22fd",
        "outputId": "4dd371a6-221d-4efd-e0b4-a54c448d97fc"
      },
      "outputs": [
        {
          "data": {
            "text/plain": [
              "female           0\n",
              "male             0\n",
              "PassengerId      0\n",
              "Survived         0\n",
              "Pclass           0\n",
              "Age            177\n",
              "SibSp            0\n",
              "Parch            0\n",
              "Fare             0\n",
              "dtype: int64"
            ]
          },
          "execution_count": 8,
          "metadata": {},
          "output_type": "execute_result"
        }
      ],
      "source": [
        "df.isnull().sum()"
      ]
    },
    {
      "cell_type": "code",
      "execution_count": null,
      "id": "60237dd0",
      "metadata": {
        "id": "60237dd0"
      },
      "outputs": [],
      "source": [
        "#Dropping null values\n",
        "df.dropna(inplace=True)"
      ]
    },
    {
      "cell_type": "code",
      "execution_count": null,
      "id": "113df197",
      "metadata": {
        "id": "113df197",
        "outputId": "0c183d2e-5a7d-46c7-c517-426b6c08b86d"
      },
      "outputs": [
        {
          "data": {
            "text/plain": [
              "female         0\n",
              "male           0\n",
              "PassengerId    0\n",
              "Survived       0\n",
              "Pclass         0\n",
              "Age            0\n",
              "SibSp          0\n",
              "Parch          0\n",
              "Fare           0\n",
              "dtype: int64"
            ]
          },
          "execution_count": 10,
          "metadata": {},
          "output_type": "execute_result"
        }
      ],
      "source": [
        "df.isnull().sum()"
      ]
    },
    {
      "cell_type": "code",
      "execution_count": null,
      "id": "0dc45963",
      "metadata": {
        "id": "0dc45963",
        "outputId": "7a2cfbd9-3e74-4b85-bbe1-8d54920c0531"
      },
      "outputs": [
        {
          "data": {
            "text/plain": [
              "9"
            ]
          },
          "execution_count": 11,
          "metadata": {},
          "output_type": "execute_result"
        }
      ],
      "source": [
        "No_cols = df.columns.size\n",
        "No_cols"
      ]
    },
    {
      "cell_type": "code",
      "execution_count": null,
      "id": "3f839f7c",
      "metadata": {
        "id": "3f839f7c",
        "outputId": "c865efad-8492-4db0-d970-b5a67343d42d"
      },
      "outputs": [
        {
          "data": {
            "text/html": [
              "<div>\n",
              "<style scoped>\n",
              "    .dataframe tbody tr th:only-of-type {\n",
              "        vertical-align: middle;\n",
              "    }\n",
              "\n",
              "    .dataframe tbody tr th {\n",
              "        vertical-align: top;\n",
              "    }\n",
              "\n",
              "    .dataframe thead th {\n",
              "        text-align: right;\n",
              "    }\n",
              "</style>\n",
              "<table border=\"1\" class=\"dataframe\">\n",
              "  <thead>\n",
              "    <tr style=\"text-align: right;\">\n",
              "      <th></th>\n",
              "      <th>female</th>\n",
              "      <th>male</th>\n",
              "      <th>PassengerId</th>\n",
              "      <th>Survived</th>\n",
              "      <th>Pclass</th>\n",
              "      <th>Age</th>\n",
              "      <th>SibSp</th>\n",
              "      <th>Parch</th>\n",
              "      <th>Fare</th>\n",
              "    </tr>\n",
              "  </thead>\n",
              "  <tbody>\n",
              "    <tr>\n",
              "      <th>count</th>\n",
              "      <td>714.000000</td>\n",
              "      <td>714.000000</td>\n",
              "      <td>714.000000</td>\n",
              "      <td>714.000000</td>\n",
              "      <td>714.000000</td>\n",
              "      <td>714.000000</td>\n",
              "      <td>714.000000</td>\n",
              "      <td>714.000000</td>\n",
              "      <td>714.000000</td>\n",
              "    </tr>\n",
              "    <tr>\n",
              "      <th>mean</th>\n",
              "      <td>0.365546</td>\n",
              "      <td>0.634454</td>\n",
              "      <td>448.582633</td>\n",
              "      <td>0.406162</td>\n",
              "      <td>2.236695</td>\n",
              "      <td>29.699118</td>\n",
              "      <td>0.512605</td>\n",
              "      <td>0.431373</td>\n",
              "      <td>34.694514</td>\n",
              "    </tr>\n",
              "    <tr>\n",
              "      <th>std</th>\n",
              "      <td>0.481921</td>\n",
              "      <td>0.481921</td>\n",
              "      <td>259.119524</td>\n",
              "      <td>0.491460</td>\n",
              "      <td>0.838250</td>\n",
              "      <td>14.526497</td>\n",
              "      <td>0.929783</td>\n",
              "      <td>0.853289</td>\n",
              "      <td>52.918930</td>\n",
              "    </tr>\n",
              "    <tr>\n",
              "      <th>min</th>\n",
              "      <td>0.000000</td>\n",
              "      <td>0.000000</td>\n",
              "      <td>1.000000</td>\n",
              "      <td>0.000000</td>\n",
              "      <td>1.000000</td>\n",
              "      <td>0.420000</td>\n",
              "      <td>0.000000</td>\n",
              "      <td>0.000000</td>\n",
              "      <td>0.000000</td>\n",
              "    </tr>\n",
              "    <tr>\n",
              "      <th>25%</th>\n",
              "      <td>0.000000</td>\n",
              "      <td>0.000000</td>\n",
              "      <td>222.250000</td>\n",
              "      <td>0.000000</td>\n",
              "      <td>1.000000</td>\n",
              "      <td>20.125000</td>\n",
              "      <td>0.000000</td>\n",
              "      <td>0.000000</td>\n",
              "      <td>8.050000</td>\n",
              "    </tr>\n",
              "    <tr>\n",
              "      <th>50%</th>\n",
              "      <td>0.000000</td>\n",
              "      <td>1.000000</td>\n",
              "      <td>445.000000</td>\n",
              "      <td>0.000000</td>\n",
              "      <td>2.000000</td>\n",
              "      <td>28.000000</td>\n",
              "      <td>0.000000</td>\n",
              "      <td>0.000000</td>\n",
              "      <td>15.741700</td>\n",
              "    </tr>\n",
              "    <tr>\n",
              "      <th>75%</th>\n",
              "      <td>1.000000</td>\n",
              "      <td>1.000000</td>\n",
              "      <td>677.750000</td>\n",
              "      <td>1.000000</td>\n",
              "      <td>3.000000</td>\n",
              "      <td>38.000000</td>\n",
              "      <td>1.000000</td>\n",
              "      <td>1.000000</td>\n",
              "      <td>33.375000</td>\n",
              "    </tr>\n",
              "    <tr>\n",
              "      <th>max</th>\n",
              "      <td>1.000000</td>\n",
              "      <td>1.000000</td>\n",
              "      <td>891.000000</td>\n",
              "      <td>1.000000</td>\n",
              "      <td>3.000000</td>\n",
              "      <td>80.000000</td>\n",
              "      <td>5.000000</td>\n",
              "      <td>6.000000</td>\n",
              "      <td>512.329200</td>\n",
              "    </tr>\n",
              "  </tbody>\n",
              "</table>\n",
              "</div>"
            ],
            "text/plain": [
              "           female        male  PassengerId    Survived      Pclass  \\\n",
              "count  714.000000  714.000000   714.000000  714.000000  714.000000   \n",
              "mean     0.365546    0.634454   448.582633    0.406162    2.236695   \n",
              "std      0.481921    0.481921   259.119524    0.491460    0.838250   \n",
              "min      0.000000    0.000000     1.000000    0.000000    1.000000   \n",
              "25%      0.000000    0.000000   222.250000    0.000000    1.000000   \n",
              "50%      0.000000    1.000000   445.000000    0.000000    2.000000   \n",
              "75%      1.000000    1.000000   677.750000    1.000000    3.000000   \n",
              "max      1.000000    1.000000   891.000000    1.000000    3.000000   \n",
              "\n",
              "              Age       SibSp       Parch        Fare  \n",
              "count  714.000000  714.000000  714.000000  714.000000  \n",
              "mean    29.699118    0.512605    0.431373   34.694514  \n",
              "std     14.526497    0.929783    0.853289   52.918930  \n",
              "min      0.420000    0.000000    0.000000    0.000000  \n",
              "25%     20.125000    0.000000    0.000000    8.050000  \n",
              "50%     28.000000    0.000000    0.000000   15.741700  \n",
              "75%     38.000000    1.000000    1.000000   33.375000  \n",
              "max     80.000000    5.000000    6.000000  512.329200  "
            ]
          },
          "execution_count": 12,
          "metadata": {},
          "output_type": "execute_result"
        }
      ],
      "source": [
        "df.describe()"
      ]
    },
    {
      "cell_type": "code",
      "execution_count": null,
      "id": "1802b385",
      "metadata": {
        "id": "1802b385",
        "outputId": "3da3cfee-84d4-41d6-9680-eb7712c3d2cb"
      },
      "outputs": [
        {
          "data": {
            "text/plain": [
              "(714, 9)"
            ]
          },
          "execution_count": 13,
          "metadata": {},
          "output_type": "execute_result"
        }
      ],
      "source": [
        "df.shape"
      ]
    },
    {
      "cell_type": "code",
      "execution_count": null,
      "id": "d7ad08fc",
      "metadata": {
        "id": "d7ad08fc"
      },
      "outputs": [],
      "source": [
        "from sklearn.model_selection import train_test_split\n",
        "X = df.drop(columns = ['Survived'])\n",
        "y = df[\"Survived\"]\n",
        "smt = SMOTE(sampling_strategy='minority')\n",
        "X,y = smt.fit_resample(X,y)\n",
        "X_train,X_test,y_train,y_test = train_test_split(X,y, test_size= 0.1, random_state = 15)\n"
      ]
    },
    {
      "cell_type": "code",
      "execution_count": null,
      "id": "bf5de497",
      "metadata": {
        "id": "bf5de497",
        "outputId": "76e5c841-de2c-4b99-e722-4043e934e757"
      },
      "outputs": [
        {
          "data": {
            "image/png": "[encoded data removed]",
            "text/plain": [
              "<Figure size 1080x1080 with 9 Axes>"
            ]
          },
          "metadata": {
            "needs_background": "light"
          },
          "output_type": "display_data"
        }
      ],
      "source": [
        "plt.figure(figsize=(15,15))\n",
        "for j in range(No_cols):\n",
        "    plt.subplot(3,3,j+1)\n",
        "    x = df[df.columns[j]]\n",
        "    y = df['Survived']\n",
        "    plt.scatter(x, y)\n",
        "    plt.xlabel(df.columns[j])"
      ]
    },
    {
      "cell_type": "code",
      "execution_count": null,
      "id": "5756f967",
      "metadata": {
        "id": "5756f967"
      },
      "outputs": [],
      "source": [
        "x_binarised_train = X_train.apply(pd.cut, bins=2, labels=[1,0])\n",
        "x_binarised_test = X_test.apply(pd.cut, bins=2, labels=[1,0])"
      ]
    },
    {
      "cell_type": "code",
      "execution_count": null,
      "id": "e636c2cd",
      "metadata": {
        "id": "e636c2cd"
      },
      "outputs": [],
      "source": [
        "# convert Inputs in to Binary values [as MP-Neuron works only on Binary values]\n",
        "X_test = x_binarised_test.values\n",
        "X_train = x_binarised_train.values"
      ]
    },
    {
      "cell_type": "code",
      "execution_count": null,
      "id": "de9be7ea",
      "metadata": {
        "id": "de9be7ea",
        "outputId": "55cc858c-6c52-46ba-dc06-fd95e8946da1"
      },
      "outputs": [
        {
          "name": "stdout",
          "output_type": "stream",
          "text": [
            "0 381 0.49934469200524245\n",
            "1 381 0.49934469200524245\n",
            "2 381 0.49934469200524245\n",
            "3 381 0.49934469200524245\n",
            "4 383 0.5019659239842726\n",
            "5 414 0.5425950196592398\n",
            "6 477 0.6251638269986893\n",
            "7 471 0.617300131061599\n",
            "8 401 0.5255570117955439\n"
          ]
        }
      ],
      "source": [
        "for b in range(X_train.shape[1] + 1):\n",
        "    y_pred_train = []\n",
        "    accurate_rows = 0\n",
        "\n",
        "    for x, y in zip(X_train, y_train):\n",
        "        y_pred = (np.sum(x) >= b)\n",
        "        y_pred_train.append(y_pred)\n",
        "        accurate_rows += (y == y_pred)\n",
        "\n",
        "    print(b, accurate_rows, accurate_rows/X_train.shape[0])"
      ]
    },
    {
      "cell_type": "code",
      "execution_count": null,
      "id": "9aea8ad1",
      "metadata": {
        "id": "9aea8ad1",
        "outputId": "7e575452-8920-4ca7-ff84-a17bfe3ed8d3"
      },
      "outputs": [
        {
          "name": "stdout",
          "output_type": "stream",
          "text": [
            "6 49 0.5764705882352941\n"
          ]
        }
      ],
      "source": [
        "b = 6\n",
        "y_pred_test = []\n",
        "accurate_rows = 0\n",
        "\n",
        "for x, y in zip(X_test, y_test):\n",
        "    y_pred = (np.sum(x) >= b)\n",
        "    y_pred_test.append(y_pred)\n",
        "    accurate_rows += (y == y_pred)\n",
        "\n",
        "print(b, accurate_rows, accurate_rows/X_test.shape[0])"
      ]
    },
    {
      "cell_type": "code",
      "execution_count": null,
      "id": "fdc75676",
      "metadata": {
        "id": "fdc75676"
      },
      "outputs": [],
      "source": [
        "from sklearn.metrics import confusion_matrix\n",
        "cm = confusion_matrix(y_test,y_pred_test)"
      ]
    },
    {
      "cell_type": "code",
      "execution_count": null,
      "id": "61bd4e27",
      "metadata": {
        "id": "61bd4e27",
        "outputId": "d00dadb2-f99d-4b61-f468-01b52ba82f96"
      },
      "outputs": [
        {
          "data": {
            "text/plain": [
              "<AxesSubplot:>"
            ]
          },
          "execution_count": 21,
          "metadata": {},
          "output_type": "execute_result"
        },
        {
          "data": {
            "image/png": "[encoded data removed]",
            "text/plain": [
              "<Figure size 432x288 with 2 Axes>"
            ]
          },
          "metadata": {
            "needs_background": "light"
          },
          "output_type": "display_data"
        }
      ],
      "source": [
        "import seaborn as sn\n",
        "sn.heatmap(cm,annot=True)"
      ]
    },
    {
      "cell_type": "code",
      "execution_count": null,
      "id": "936e3de8",
      "metadata": {
        "id": "936e3de8",
        "outputId": "a0144bb3-495f-42d9-d23a-b62fd2fd1c1d"
      },
      "outputs": [
        {
          "name": "stdout",
          "output_type": "stream",
          "text": [
            "              precision    recall  f1-score   support\n",
            "\n",
            "           0       0.57      0.57      0.57        42\n",
            "           1       0.58      0.58      0.58        43\n",
            "\n",
            "    accuracy                           0.58        85\n",
            "   macro avg       0.58      0.58      0.58        85\n",
            "weighted avg       0.58      0.58      0.58        85\n",
            "\n"
          ]
        }
      ],
      "source": [
        "from sklearn.metrics import classification_report\n",
        "print(classification_report(y_test,y_pred_test))"
      ]
    },
    {
      "cell_type": "code",
      "execution_count": null,
      "id": "1c46f208",
      "metadata": {
        "id": "1c46f208"
      },
      "outputs": [],
      "source": [
        "class MPNeuron:\n",
        "    def __init__(self):\n",
        "        self.b = None\n",
        "    def getThreshold(self):\n",
        "        return self.b\n",
        "    def model(self, x):\n",
        "        return(np.sum(x)>=self.b)\n",
        "    def predict(self, X):\n",
        "        Y = []\n",
        "        for x in X:\n",
        "            result = self.model(x)\n",
        "            Y.append(result)\n",
        "        return np.array(Y)\n",
        "\n",
        "    def fit(self, X, Y):\n",
        "        accuracy = {}   #dictionary     key-value pair\n",
        "        for b in range(X.shape[1]+1):\n",
        "            self.b = b\n",
        "            y_pred_train = self.predict(X)\n",
        "            accuracy[b] = accuracy_score(y_pred_train, Y)\n",
        "\n",
        "        best_b = max(accuracy, key = accuracy.get)\n",
        "        self.b = best_b\n",
        "\n",
        "        print(\"optimal threshold for MP neuron is: \", self.b)\n",
        "        print(\"Highest accuracy is: \", accuracy[self.b])\n",
        "\n",
        "    def test(self, X, Y):\n",
        "        y_pred_train = self.predict(X)\n",
        "        accuracy = accuracy_score(y_pred_train, Y)\n",
        "        print(\"Accuracy of MPNeuron for test data is: \", accuracy)"
      ]
    },
    {
      "cell_type": "code",
      "execution_count": null,
      "id": "c20c93f4",
      "metadata": {
        "id": "c20c93f4",
        "outputId": "88b28210-28b7-49df-cf42-bef1217f020e"
      },
      "outputs": [
        {
          "name": "stdout",
          "output_type": "stream",
          "text": [
            "optimal threshold for MP neuron is:  6\n",
            "Highest accuracy is:  0.6251638269986893\n"
          ]
        }
      ],
      "source": [
        "mp_neuron = MPNeuron()\n",
        "mp_neuron.fit(X_train, y_train)"
      ]
    },
    {
      "cell_type": "code",
      "execution_count": null,
      "id": "3cccb646",
      "metadata": {
        "id": "3cccb646",
        "outputId": "c8c324ff-1e43-4acd-f185-71dbb915895b"
      },
      "outputs": [
        {
          "name": "stdout",
          "output_type": "stream",
          "text": [
            "0.5764705882352941\n"
          ]
        }
      ],
      "source": [
        "predicted = mp_neuron.predict(X_test)\n",
        "accuracy_test = accuracy_score(predicted, y_test)\n",
        "print(accuracy_test)"
      ]
    },
    {
      "cell_type": "code",
      "execution_count": null,
      "id": "3527e724",
      "metadata": {
        "id": "3527e724"
      },
      "outputs": [],
      "source": [
        "class Perceptron:\n",
        "# Globl variables weight and bias\n",
        "    def __init__ (self):\n",
        "        self.w = None\n",
        "        self.b = None\n",
        "\n",
        "# model\n",
        "    def model(self, x):\n",
        "        return 1 if (np.dot(self.w, x) >= self.b) else 0\n",
        "\n",
        "    def predict(self, X):\n",
        "        Y = []\n",
        "        for x in X:\n",
        "            result = self.model(x)\n",
        "            Y.append(result)\n",
        "        return np.array(Y)\n",
        "\n",
        "    def fit(self, X, Y, epochs = 1, lr = 1):\n",
        "        self.w = np.ones(X.shape[1])\n",
        "        self.b = 0\n",
        "\n",
        "        accuracy = {}\n",
        "        max_accuracy = 0\n",
        "\n",
        "        for i in range(epochs):\n",
        "            for x, y in zip(X, Y):\n",
        "                y_pred = self.model(x)\n",
        "\n",
        "                if  y == 1 and y_pred == 0:\n",
        "                    self.w = self.w + lr * x\n",
        "                    self.b = self.b - lr * 1\n",
        "                elif y == 0 and y_pred == 1:\n",
        "                    self.w = self.w - lr * x\n",
        "                    self.b = self.b + lr * 1\n",
        "\n",
        "            accuracy[i] = accuracy_score(self.predict(X), Y)\n",
        "            if (accuracy[i] > max_accuracy):\n",
        "                max_accuracy = accuracy[i]\n",
        "                chkptw = self.w\n",
        "                chkptb = self.b\n",
        "\n",
        "        self.w = chkptw\n",
        "        self.b = chkptb\n",
        "\n",
        "        print(\"Max Accuracy\", max_accuracy)\n",
        "\n",
        "        plt.plot(list(accuracy.values()))\n",
        "        plt.ylim([0, 1])\n",
        "        plt.show()"
      ]
    },
    {
      "cell_type": "code",
      "execution_count": null,
      "id": "5f426726",
      "metadata": {
        "id": "5f426726",
        "outputId": "d99fd441-bda3-46db-e2bc-fe578425e7f6"
      },
      "outputs": [
        {
          "name": "stdout",
          "output_type": "stream",
          "text": [
            "Max Accuracy 0.7903014416775884\n"
          ]
        },
        {
          "data": {
            "image/png": "[encoded data removed]",
            "text/plain": [
              "<Figure size 432x288 with 1 Axes>"
            ]
          },
          "metadata": {
            "needs_background": "light"
          },
          "output_type": "display_data"
        }
      ],
      "source": [
        "perceptron =Perceptron()\n",
        "perceptron.fit(X_train, y_train,100,0.001)"
      ]
    },
    {
      "cell_type": "code",
      "execution_count": null,
      "id": "8445b3a6",
      "metadata": {
        "id": "8445b3a6",
        "outputId": "0cc78c85-f6cb-45f2-cc53-0cf35d9bce0b"
      },
      "outputs": [
        {
          "name": "stdout",
          "output_type": "stream",
          "text": [
            "0.7529411764705882\n"
          ]
        }
      ],
      "source": [
        "predicted = perceptron.predict(X_test)\n",
        "accuracy_test = accuracy_score(predicted, y_test)\n",
        "print(accuracy_test)\n"
      ]
    },
    {
      "cell_type": "code",
      "execution_count": null,
      "id": "0bf94604",
      "metadata": {
        "id": "0bf94604",
        "outputId": "bc321fc0-2505-4e80-f5d2-e8c40888df44"
      },
      "outputs": [
        {
          "data": {
            "text/plain": [
              "<AxesSubplot:>"
            ]
          },
          "execution_count": 30,
          "metadata": {},
          "output_type": "execute_result"
        },
        {
          "data": {
            "image/png": "[encoded data removed]",
            "text/plain": [
              "<Figure size 432x288 with 2 Axes>"
            ]
          },
          "metadata": {
            "needs_background": "light"
          },
          "output_type": "display_data"
        }
      ],
      "source": [
        "cm = confusion_matrix(y_test,predicted)\n",
        "sn.heatmap(cm,annot=True)"
      ]
    },
    {
      "cell_type": "code",
      "execution_count": null,
      "id": "fdd9a8a8",
      "metadata": {
        "id": "fdd9a8a8",
        "outputId": "da9d2f91-fbc7-49a5-feda-61f899e14a5c"
      },
      "outputs": [
        {
          "name": "stdout",
          "output_type": "stream",
          "text": [
            "              precision    recall  f1-score   support\n",
            "\n",
            "           0       0.57      0.57      0.57        42\n",
            "           1       0.58      0.58      0.58        43\n",
            "\n",
            "    accuracy                           0.58        85\n",
            "   macro avg       0.58      0.58      0.58        85\n",
            "weighted avg       0.58      0.58      0.58        85\n",
            "\n"
          ]
        }
      ],
      "source": [
        "print(classification_report(y_test,y_pred_test))"
      ]
    },
    {
      "cell_type": "code",
      "execution_count": null,
      "id": "3b3e9b47",
      "metadata": {
        "id": "3b3e9b47"
      },
      "outputs": [],
      "source": []
    }
  ],
  "metadata": {
    "kernelspec": {
      "display_name": "Python 3 (ipykernel)",
      "language": "python",
      "name": "python3"
    },
    "language_info": {
      "codemirror_mode": {
        "name": "ipython",
        "version": 3
      },
      "file_extension": ".py",
      "mimetype": "text/x-python",
      "name": "python",
      "nbconvert_exporter": "python",
      "pygments_lexer": "ipython3",
      "version": "3.8.10"
    },
    "colab": {
      "provenance": []
    }
  },
  "nbformat": 4,
  "nbformat_minor": 5
}